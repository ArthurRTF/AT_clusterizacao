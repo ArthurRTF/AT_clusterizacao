{
 "cells": [
  {
   "cell_type": "code",
   "execution_count": null,
   "id": "9ac30ca0",
   "metadata": {},
   "outputs": [
    {
     "name": "stdout",
     "output_type": "stream",
     "text": [
      "K-Means: ARI=0.289, NMI=0.716, Silhouette=0.112\n",
      "Agglomerative: ARI=0.470, NMI=0.850, Silhouette=0.117\n",
      "DBSCAN: ARI=0.000, NMI=0.000, Silhouette=-1.000\n"
     ]
    },
    {
     "data": {
      "text/plain": [
       "'\\nO K-Means obteve resultados medianos (ARI=0.289, NMI=0.716), mas com silhueta baixa (0.112), indicando clusters pouco separados.\\n\\nO Agglomerative apresentou desempenho superior (ARI=0.470, NMI=0.850), ainda que com silhueta baixa (0.117), \\nmostrando um maior alinhamento com as classes verdadeiras, mas com dificuldade em separar geometricamente os grupos.\\n\\nO DBSCAN falhou miseravelmente (ARI=0.000, NMI=0.000, silhouette=-1.000), formando um cluster único e tratando a maior parte dos pontos como ruído.\\n\\nAssim, conclui-se que Agglomerative Clustering foi o mais adequado para este dataset, seguido do K-Means, enquanto o DBSCAN não conseguiu capturar a estrutura dos dados.\\n'"
      ]
     },
     "execution_count": 1,
     "metadata": {},
     "output_type": "execute_result"
    }
   ],
   "source": [
    "# Questão 10\n",
    "import numpy as np\n",
    "from sklearn.cluster import KMeans, AgglomerativeClustering, DBSCAN\n",
    "from sklearn.decomposition import PCA\n",
    "from sklearn.preprocessing import StandardScaler\n",
    "from sklearn.metrics import adjusted_rand_score, normalized_mutual_info_score, silhouette_score\n",
    "import warnings\n",
    "\n",
    "warnings.filterwarnings(\"ignore\")\n",
    "\n",
    "def avaliacao(nome, labels):\n",
    "    ari = adjusted_rand_score(y, labels)\n",
    "    nmi = normalized_mutual_info_score(y, labels)\n",
    "    sil = silhouette_score(X_pca, labels) if len(set(labels)) > 1 else -1\n",
    "    print(f\"{nome}: ARI={ari:.3f}, NMI={nmi:.3f}, Silhouette={sil:.3f}\")\n",
    "\n",
    "X = np.load(\"olivetti_faces.npy\")              \n",
    "y = np.load(\"olivetti_faces_target.npy\")   \n",
    "\n",
    "X_achatado = X.reshape((X.shape[0], -1))\n",
    "\n",
    "std      = StandardScaler()\n",
    "X_scaled = std.fit_transform(X_achatado)\n",
    "\n",
    "pca     = PCA(n_components=0.9, whiten=True, random_state=42)\n",
    "X_pca   = pca.fit_transform(X_scaled)\n",
    "\n",
    "kmeans        = KMeans(n_clusters=40, random_state=42)\n",
    "labels_kmeans = kmeans.fit_predict(X_pca)\n",
    "\n",
    "agg         = AgglomerativeClustering(n_clusters=40, linkage=\"ward\")\n",
    "labels_agg  = agg.fit_predict(X_pca)\n",
    "\n",
    "dbscan        = DBSCAN(eps=3, min_samples=5) \n",
    "labels_dbscan = dbscan.fit_predict(X_pca)\n",
    "\n",
    "avaliacao(\"K-Means\", labels_kmeans)\n",
    "avaliacao(\"Agglomerative\", labels_agg)\n",
    "avaliacao(\"DBSCAN\", labels_dbscan)\n",
    "\n",
    "\"\"\"\n",
    "O K-Means obteve resultados medianos (ARI=0.289, NMI=0.716), mas com silhueta baixa (0.112), indicando clusters pouco separados.\n",
    "\n",
    "O Agglomerative apresentou desempenho superior (ARI=0.470, NMI=0.850), ainda que com silhueta baixa (0.117), \n",
    "mostrando um maior alinhamento com as classes verdadeiras, mas com dificuldade em separar geometricamente os grupos.\n",
    "\n",
    "O DBSCAN falhou miseravelmente (ARI=0.000, NMI=0.000, silhouette=-1.000), formando um cluster único e tratando a maior parte dos pontos como ruído.\n",
    "\n",
    "Assim, conclui-se que Agglomerative Clustering foi o mais adequado para este dataset, seguido do K-Means, enquanto o DBSCAN não conseguiu capturar a estrutura dos dados.\n",
    "\"\"\""
   ]
  }
 ],
 "metadata": {
  "kernelspec": {
   "display_name": "infnet-ml",
   "language": "python",
   "name": "python3"
  },
  "language_info": {
   "codemirror_mode": {
    "name": "ipython",
    "version": 3
   },
   "file_extension": ".py",
   "mimetype": "text/x-python",
   "name": "python",
   "nbconvert_exporter": "python",
   "pygments_lexer": "ipython3",
   "version": "3.13.2"
  }
 },
 "nbformat": 4,
 "nbformat_minor": 5
}
